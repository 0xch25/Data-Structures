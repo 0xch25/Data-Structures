{
 "cells": [
  {
   "cell_type": "code",
   "execution_count": 22,
   "metadata": {},
   "outputs": [
    {
     "name": "stdout",
     "output_type": "stream",
     "text": [
      "A -> ['B', 'C']\n",
      "B -> ['A', 'D']\n",
      "C -> ['A', 'D', 'E']\n",
      "D -> ['B', 'C', 'E']\n",
      "E -> ['C', 'D']\n",
      "3\n"
     ]
    }
   ],
   "source": [
    "\n",
    "'''\n",
    "we can implement graph using Adjacency list and also by Matrix.\n",
    "since Matrix takes v^2 space we prefer to use Adjacency List for all graph Implementations.\n",
    "'''\n",
    "\n",
    "#Graph Implementation Using Adjacency List\n",
    "class Graph:\n",
    "    def __init__(self,Nodes):\n",
    "        self.nodes=Nodes\n",
    "        self.adjlist={}\n",
    "        for node in self.nodes:\n",
    "            self.adjlist[node]=[]\n",
    "    def add_edge(self,u,v):\n",
    "        self.adjlist[u].append(v)\n",
    "        self.adjlist[v].append(u)\n",
    "    def printadjlist(self):\n",
    "        for node in self.nodes:\n",
    "            print(node,\"->\",self.adjlist[node])\n",
    "    def degree(self,node):\n",
    "        return len(self.adjlist[node])\n",
    "    \n",
    "nodes=[\"A\",\"B\",\"C\",\"D\",\"E\"]\n",
    "all_edges=[(\"A\",\"B\"),(\"A\",\"C\"),(\"B\",\"D\"),(\"C\",\"D\"),(\"C\",\"E\"),(\"D\",\"E\")]\n",
    "\n",
    "g=Graph(nodes)\n",
    "for u,v in all_edges:\n",
    "    g.add_edge(u,v)\n",
    "g.printadjlist()       \n",
    "print(g.degree(\"C\"))"
   ]
  },
  {
   "cell_type": "code",
   "execution_count": null,
   "metadata": {},
   "outputs": [],
   "source": [
    "'''\n",
    "Graph Traversal includes 2 process.\n",
    "1.Visiting a vertex\n",
    "2.Exploring a vertex\n",
    "BFS: visit a vertex,explore all its adjacency vertex,then move to next vertex(also Level Order on a Binary Tree)\n",
    "DFS: visit a vertex,visit next vertex until the end,then backtract and visit all vertex by backtracking.(also Pre Order on a Binary Tree)\n",
    "\n",
    "'''"
   ]
  },
  {
   "cell_type": "code",
   "execution_count": 21,
   "metadata": {},
   "outputs": [
    {
     "name": "stdout",
     "output_type": "stream",
     "text": [
      "A --> ['B', 'C']\n",
      "B --> ['A', 'D', 'E']\n",
      "C --> ['A', 'F', 'G']\n",
      "D --> ['B']\n",
      "E --> ['B']\n",
      "F --> ['C']\n",
      "G --> ['C']\n",
      "DFS TRAV: ['A', 'B', 'C', 'D', 'E', 'F', 'G']\n",
      "Parents: {'A': None, 'B': 'A', 'C': 'A', 'D': 'B', 'E': 'B', 'F': 'C', 'G': 'C'}\n",
      "Level: {'A': 0, 'B': 1, 'C': 1, 'D': 2, 'E': 2, 'F': 2, 'G': 2}\n",
      "Shortest Path from A to G : ['A', 'C', 'G']\n"
     ]
    }
   ],
   "source": [
    "#Implementation of BFS Traversal and to find shortest path using BFS \n",
    "from queue import Queue\n",
    "class Graph:\n",
    "    def __init__(self,Nodes):\n",
    "        self.nodes=Nodes\n",
    "        self.adjlist={}\n",
    "        for node in self.nodes:\n",
    "            self.adjlist[node]=[]\n",
    "    def add_edge(self,u,v):\n",
    "        self.adjlist[u].append(v)\n",
    "        self.adjlist[v].append(u) #only if the graph is undirected\n",
    "    def print_edge(self):\n",
    "        for node in self.nodes:\n",
    "            print(node,\"-->\",self.adjlist[node])\n",
    "    def BFS(self,source):\n",
    "        visited={}\n",
    "        level={}   #to get the level at given node\n",
    "        parent={}  #Used to find Shortest Path\n",
    "        bfstrav=[] #to store the output of BFS\n",
    "        queue=Queue()\n",
    "        for node in self.adjlist.keys():\n",
    "            visited[node]=False\n",
    "            parent[node]=None\n",
    "            level[node]=-1\n",
    "        \n",
    "        visited[source]=True\n",
    "        level[source]=0\n",
    "        queue.put(source)\n",
    "        while not queue.empty():\n",
    "            u=queue.get()\n",
    "            bfstrav.append(u)\n",
    "            for v in self.adjlist[u]:\n",
    "                if not visited[v]:\n",
    "                    visited[v]=True\n",
    "                    parent[v]=u\n",
    "                    level[v]=level[u]+1\n",
    "                    queue.put(v)\n",
    "        \n",
    "        print(\"DFS TRAV:\",bfstrav)\n",
    "        print(\"Parents:\",parent)\n",
    "        print(\"Level:\",level)\n",
    "        self.parent=parent\n",
    "    def ShortPath(self,src,dest):\n",
    "        path=[]\n",
    "        d=dest\n",
    "        while dest is not None:\n",
    "            path.append(dest)\n",
    "            dest=self.parent[dest]\n",
    "        path.reverse()\n",
    "        print(\"Shortest Path from\",src,\"to\",d,\":\",path)\n",
    "        \n",
    "                \n",
    "nodes=[\"A\",\"B\",\"C\",\"D\",\"E\",\"F\",\"G\"]\n",
    "g=Graph(Nodes)\n",
    "all_edges=[(\"A\",\"B\"),(\"A\",\"C\"),(\"B\",\"D\"),(\"B\",\"E\"),(\"C\",\"F\"),(\"C\",\"G\")]\n",
    "for u,v in all_edges:\n",
    "    g.add_edge(u,v)\n",
    "g.print_edge()  \n",
    "g.BFS(\"A\")\n",
    "g.ShortPath(\"A\",\"G\")\n"
   ]
  },
  {
   "cell_type": "code",
   "execution_count": 76,
   "metadata": {},
   "outputs": [
    {
     "name": "stdout",
     "output_type": "stream",
     "text": [
      "A --> ['B', 'C']\n",
      "B --> ['A', 'D', 'E']\n",
      "C --> ['A', 'F', 'G']\n",
      "D --> ['B']\n",
      "E --> ['B']\n",
      "F --> ['C']\n",
      "G --> ['C']\n",
      "['A', 'C', 'G', 'F', 'B', 'E', 'D']\n"
     ]
    }
   ],
   "source": [
    "#Implementation of DFS\n",
    "class Graph:\n",
    "    def __init__(self,Nodes):\n",
    "        self.nodes=Nodes\n",
    "        self.adjlist={}\n",
    "        for node in self.nodes:\n",
    "            self.adjlist[node]=[]\n",
    "    def add_edge(self,u,v):\n",
    "        self.adjlist[u].append(v)\n",
    "        self.adjlist[v].append(u)\n",
    "    def print_edge(self):\n",
    "        for node in self.nodes:\n",
    "            print(node,\"-->\",self.adjlist[node])\n",
    "    def DFS(self,start):\n",
    "        stack = [start]\n",
    "        visited = []\n",
    "        while stack:\n",
    "            node = stack.pop()\n",
    "            if node not in visited:\n",
    "                visited.append(node)\n",
    "                for n in self.adjlist[node]:\n",
    "                    stack.append(n)\n",
    "\n",
    "        print(visited)     \n",
    "nodes=[\"A\",\"B\",\"C\",\"D\",\"E\",\"F\",\"G\"]\n",
    "g=Graph(Nodes)\n",
    "all_edges=[(\"A\",\"B\"),(\"A\",\"C\"),(\"B\",\"D\"),(\"B\",\"E\"),(\"C\",\"F\"),(\"C\",\"G\")]\n",
    "for u,v in all_edges:\n",
    "    g.add_edge(u,v)\n",
    "g.print_edge() \n",
    "g.DFS(\"A\")\n",
    "    "
   ]
  },
  {
   "cell_type": "code",
   "execution_count": null,
   "metadata": {},
   "outputs": [],
   "source": []
  },
  {
   "cell_type": "code",
   "execution_count": null,
   "metadata": {},
   "outputs": [],
   "source": []
  }
 ],
 "metadata": {
  "kernelspec": {
   "display_name": "Python 3",
   "language": "python",
   "name": "python3"
  },
  "language_info": {
   "codemirror_mode": {
    "name": "ipython",
    "version": 3
   },
   "file_extension": ".py",
   "mimetype": "text/x-python",
   "name": "python",
   "nbconvert_exporter": "python",
   "pygments_lexer": "ipython3",
   "version": "3.7.4"
  }
 },
 "nbformat": 4,
 "nbformat_minor": 2
}
