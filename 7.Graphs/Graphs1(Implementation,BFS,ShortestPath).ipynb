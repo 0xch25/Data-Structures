{
 "cells": [
  {
   "cell_type": "code",
   "execution_count": null,
   "metadata": {},
   "outputs": [],
   "source": [
    "'''\n",
    "we can implement graph using Adjacency list and also by Matrix.\n",
    "since Matrix takes v^2 space we prefer to use Adjacency List for all graph Implementations.\n",
    "'''"
   ]
  },
  {
   "cell_type": "code",
   "execution_count": 39,
   "metadata": {
    "scrolled": true
   },
   "outputs": [
    {
     "name": "stdout",
     "output_type": "stream",
     "text": [
      "A -> ['B', 'C']\n",
      "B -> ['A', 'D']\n",
      "C -> ['A', 'D', 'E']\n",
      "D -> ['B', 'C', 'E']\n",
      "E -> ['C', 'D']\n",
      "3\n"
     ]
    }
   ],
   "source": [
    "#Graph Implementation Using Adjacency List\n",
    "class Graph:\n",
    "    def __init__(self,Nodes):\n",
    "        self.nodes=Nodes\n",
    "        self.adjlist={}\n",
    "        for node in self.nodes:\n",
    "            self.adjlist[node]=[]\n",
    "    def add_edge(self,u,v):\n",
    "        self.adjlist[u].append(v)\n",
    "        self.adjlist[v].append(u)\n",
    "    def printadjlist(self):\n",
    "        for node in self.nodes:\n",
    "            print(node,\"->\",self.adjlist[node])\n",
    "    def degree(self,node):\n",
    "        return len(self.adjlist[node])\n",
    "    \n",
    "nodes=[\"A\",\"B\",\"C\",\"D\",\"E\"]\n",
    "all_edges=[(\"A\",\"B\"),(\"A\",\"C\"),(\"B\",\"D\"),(\"C\",\"D\"),(\"C\",\"E\"),(\"D\",\"E\")]\n",
    "\n",
    "g=Graph(nodes)\n",
    "for u,v in all_edges:\n",
    "    g.add_edge(u,v)\n",
    "g.printadjlist()       \n",
    "print(g.degree(\"C\"))"
   ]
  },
  {
   "cell_type": "code",
   "execution_count": 40,
   "metadata": {
    "collapsed": true
   },
   "outputs": [
    {
     "data": {
      "text/plain": [
       "'\\nGraph Traversal includes 2 process.\\n1.Visiting a vertex\\n2.Exploring a vertex\\nBFS: visit a vertex,explore all its adjacency vertex,then move to next vertex(Level Order on a Binary Tree)\\nDFS: visit a vertex,visit next vertex until the end,then backtract and visit all vertex by backtracking.(Pre Order on a Binary Tree)\\n\\n'"
      ]
     },
     "execution_count": 40,
     "metadata": {},
     "output_type": "execute_result"
    }
   ],
   "source": [
    "'''\n",
    "Graph Traversal includes 2 process.\n",
    "1.Visiting a vertex\n",
    "2.Exploring a vertex\n",
    "BFS: visit a vertex,explore all its adjacency vertex,then move to next vertex(Level Order on a Binary Tree)\n",
    "DFS: visit a vertex,visit next vertex until the end,then backtract and visit all vertex by backtracking.(Pre Order on a Binary Tree)\n",
    "\n",
    "'''"
   ]
  },
  {
   "cell_type": "code",
   "execution_count": 38,
   "metadata": {},
   "outputs": [
    {
     "name": "stdout",
     "output_type": "stream",
     "text": [
      "['A', 'B', 'D', 'C', 'E', 'F', 'G', 'H']\n",
      "[0, 1, 3, 8, 7, 2, 4, 5, 6]\n",
      "[6, 5, 2, 3, 7, 0, 4, 1, 8]\n"
     ]
    }
   ],
   "source": [
    "#Implementation of BFS Algorithm\n",
    "from queue import Queue\n",
    "def BFS(adj_list,source):\n",
    "    visited={}\n",
    "    bfstrav=[]\n",
    "    queue=Queue()\n",
    "    for node in adj_list.keys():\n",
    "        visited[node]=False\n",
    "    visited[source]=True\n",
    "    queue.put(source)\n",
    "    while not queue.empty():\n",
    "        u=queue.get()\n",
    "        bfstrav.append(u)\n",
    "        for v in adj_list[u]:\n",
    "            if not visited[v]:\n",
    "                visited[v]=True\n",
    "                queue.put(v)\n",
    "    print(bfstrav)\n",
    "#using Dictionary keys as vertex and value pai as edges:-    \n",
    "adj_list2={\n",
    "       0:[1,3,8],\n",
    "       1:[0,7],\n",
    "       2:[3,7,5],\n",
    "       3:[0,2,4],\n",
    "       4:[3,8],\n",
    "       5:[2,6],\n",
    "       6:[5],\n",
    "       7:[1,2],\n",
    "       8:[0,4]}\n",
    "adj_list={\n",
    "    \"A\":[\"B\",\"D\"],\n",
    "    \"B\":[\"A\",\"C\"],\n",
    "    \"C\":[\"B\"],\n",
    "    \"D\":[\"A\",\"E\",\"F\"],\n",
    "    \"E\":[\"D\",\"F\",\"G\"],\n",
    "    \"F\":[\"D\",\"E\",\"H\"],\n",
    "    \"G\":[\"E\",\"H\"],\n",
    "    \"H\":[\"G\",\"F\"]}\n",
    "BFS(adj_list,\"A\")\n",
    "BFS(adj_list2,0)\n",
    "BFS(adj_list2,6)"
   ]
  },
  {
   "cell_type": "code",
   "execution_count": null,
   "metadata": {},
   "outputs": [],
   "source": [
    "'''\n",
    "Applications of BFS:\n",
    "*Shortest path and Minimum Spanning Tree for Unweighted graph\n",
    "*peer to peer Networks\n",
    "*Social Networking Websites\n",
    "'''"
   ]
  },
  {
   "cell_type": "code",
   "execution_count": 47,
   "metadata": {},
   "outputs": [
    {
     "name": "stdout",
     "output_type": "stream",
     "text": [
      "DFS Traversal is:\n",
      " ['A', 'B', 'D', 'C', 'E', 'F', 'G', 'H']\n",
      "Parent: {'A': None, 'B': 'A', 'C': 'B', 'D': 'A', 'E': 'D', 'F': 'D', 'G': 'E', 'H': 'F'}\n",
      "Level: {'A': 0, 'B': 1, 'C': 2, 'D': 1, 'E': 2, 'F': 2, 'G': 3, 'H': 3}\n",
      "The shortest path is:\n",
      "['A', 'D', 'E', 'G']\n"
     ]
    }
   ],
   "source": [
    "#Program to find shortest path using DFS Traversal.\n",
    "from queue import Queue\n",
    "def ShortestPath(adj_list,src,dest):\n",
    "    visited={}\n",
    "    level={}\n",
    "    parent={}\n",
    "    bfs_trav_output=[]\n",
    "    queue=Queue()\n",
    "\n",
    "    for node in adj_list.keys():\n",
    "        visited[node]=False\n",
    "        parent[node]=None\n",
    "        level[node]=-1\n",
    "\n",
    "    visited[src]=True\n",
    "    level[src]=0\n",
    "    queue.put(src)\n",
    "    \n",
    "    while not queue.empty():\n",
    "        u=queue.get()\n",
    "        bfs_trav_output.append(u)\n",
    "        for v in adj_list[u]:\n",
    "            if not visited[v]:\n",
    "                visited[v]=True\n",
    "                parent[v]=u\n",
    "                level[v]=level[u]+1\n",
    "                queue.put(v)\n",
    "    print(\"DFS Traversal is:\\n\",bfs_trav_output)\n",
    "    print(\"Parent:\",parent)\n",
    "    print(\"Level:\",level)\n",
    "    path=[]\n",
    "    while dest is not None:\n",
    "        path.append(dest)\n",
    "        dest=parent[dest]\n",
    "    path.reverse()\n",
    "    print(\"The shortest path is:\")\n",
    "    print(path)\n",
    "\n",
    "\n",
    "adj_list={\n",
    "    \"A\":[\"B\",\"D\"],\n",
    "    \"B\":[\"A\",\"C\"],\n",
    "    \"C\":[\"B\"],\n",
    "    \"D\":[\"A\",\"E\",\"F\"],\n",
    "    \"E\":[\"D\",\"F\",\"G\"],\n",
    "    \"F\":[\"D\",\"E\",\"H\"],\n",
    "    \"G\":[\"E\",\"H\"],\n",
    "    \"H\":[\"G\",\"F\"]\n",
    "}\n",
    "src=\"A\"\n",
    "dest=\"G\"\n",
    "ShortestPath(adj_list,src,dest)"
   ]
  },
  {
   "cell_type": "code",
   "execution_count": null,
   "metadata": {},
   "outputs": [],
   "source": []
  }
 ],
 "metadata": {
  "kernelspec": {
   "display_name": "Python 3",
   "language": "python",
   "name": "python3"
  },
  "language_info": {
   "codemirror_mode": {
    "name": "ipython",
    "version": 3
   },
   "file_extension": ".py",
   "mimetype": "text/x-python",
   "name": "python",
   "nbconvert_exporter": "python",
   "pygments_lexer": "ipython3",
   "version": "3.7.4"
  }
 },
 "nbformat": 4,
 "nbformat_minor": 2
}
